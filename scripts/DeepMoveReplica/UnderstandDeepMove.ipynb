{
 "cells": [
  {
   "cell_type": "code",
   "execution_count": 1,
   "metadata": {},
   "outputs": [],
   "source": [
    "\"\"\"\n",
    "Preamble for most code and jupyter notebooks\n",
    "@author: tobinsouth\n",
    "@notebook date: 11 Nov 2021\n",
    "\"\"\"\n",
    "\n",
    "import numpy as np, pandas as pd, matplotlib.pyplot as plt, matplotlib as mpl, seaborn as sns\n",
    "import math, string, re, pickle, json, os, sys, datetime, itertools\n",
    "from collections import Counter\n",
    "from tqdm import tqdm\n",
    "\n",
    "# Set panda's options\n",
    "pd.set_option(\"display.max_rows\", 50)\n",
    "pd.set_option(\"display.max_columns\", 120)\n",
    "\n",
    "# Better graphics\n",
    "from matplotlib_inline.backend_inline import set_matplotlib_formats\n",
    "set_matplotlib_formats('retina')\n",
    "plt.style.use('seaborn-poster')"
   ]
  },
  {
   "cell_type": "code",
   "execution_count": 2,
   "metadata": {},
   "outputs": [],
   "source": [
    "data = pickle.load(open('../DeepMove/data/foursquare.pk', 'rb'),  encoding='latin')"
   ]
  },
  {
   "cell_type": "code",
   "execution_count": 3,
   "metadata": {},
   "outputs": [
    {
     "data": {
      "text/plain": [
       "dict_keys(['data_filter', 'parameters', 'vid_lookup', 'vid_list', 'data_neural', 'uid_list'])"
      ]
     },
     "execution_count": 3,
     "metadata": {},
     "output_type": "execute_result"
    }
   ],
   "source": [
    "data.keys()"
   ]
  },
  {
   "cell_type": "code",
   "execution_count": 8,
   "metadata": {},
   "outputs": [],
   "source": [
    "import torch\n",
    "from torch.autograd import Variable\n",
    "\n",
    "data_neural = data['data_neural']\n",
    "candidate = data_neural.keys()\n",
    "mode = 'train'\n",
    "\n",
    "data_train = {}\n",
    "train_idx = {}\n",
    "for u in candidate:\n",
    "    sessions = data_neural[u]['sessions']\n",
    "    train_id = data_neural[u][mode]\n",
    "    data_train[u] = {}\n",
    "    for c, i in enumerate(train_id):\n",
    "        trace = {}\n",
    "        if mode == 'train' and c == 0:\n",
    "            continue\n",
    "        session = sessions[i]\n",
    "        target = np.array([s[0] for s in session[1:]])\n",
    "\n",
    "        history = []\n",
    "        # if mode == 'test':\n",
    "        #     test_id = data_neural[u]['train']\n",
    "        #     for tt in test_id:\n",
    "        #         history.extend([(s[0], s[1]) for s in sessions[tt]])\n",
    "        for j in range(c):\n",
    "            history.extend([(s[0], s[1]) for s in sessions[train_id[j]]])\n",
    "\n",
    "        history_tim = [t[1] for t in history]\n",
    "        history_count = [1]\n",
    "        last_t = history_tim[0]\n",
    "        count = 1\n",
    "        for t in history_tim[1:]:\n",
    "            if t == last_t:\n",
    "                count += 1\n",
    "            else:\n",
    "                history_count[-1] = count\n",
    "                history_count.append(1)\n",
    "                last_t = t\n",
    "                count = 1\n",
    "\n",
    "        history_loc = np.reshape(np.array([s[0] for s in history]), (len(history), 1))\n",
    "        history_tim = np.reshape(np.array([s[1] for s in history]), (len(history), 1))\n",
    "        trace['history_loc'] = Variable(torch.LongTensor(history_loc))\n",
    "        trace['history_tim'] = Variable(torch.LongTensor(history_tim))\n",
    "        trace['history_count'] = history_count\n",
    "\n",
    "        loc_tim = history\n",
    "        loc_tim.extend([(s[0], s[1]) for s in session[:-1]])\n",
    "        loc_np = np.reshape(np.array([s[0] for s in loc_tim]), (len(loc_tim), 1))\n",
    "        tim_np = np.reshape(np.array([s[1] for s in loc_tim]), (len(loc_tim), 1))\n",
    "        trace['loc'] = Variable(torch.LongTensor(loc_np))\n",
    "        trace['tim'] = Variable(torch.LongTensor(tim_np))\n",
    "        trace['target'] = Variable(torch.LongTensor(target))\n",
    "        data_train[u][i] = trace\n",
    "    train_idx[u] = train_id"
   ]
  },
  {
   "cell_type": "code",
   "execution_count": null,
   "metadata": {},
   "outputs": [],
   "source": []
  }
 ],
 "metadata": {
  "interpreter": {
   "hash": "c854730bd06fef4a089243d2501fb3b7e98cc6cf4ccc2cce9e8cdf48ee542ef6"
  },
  "kernelspec": {
   "display_name": "Python 3.8.9 64-bit",
   "language": "python",
   "name": "python3"
  },
  "language_info": {
   "codemirror_mode": {
    "name": "ipython",
    "version": 3
   },
   "file_extension": ".py",
   "mimetype": "text/x-python",
   "name": "python",
   "nbconvert_exporter": "python",
   "pygments_lexer": "ipython3",
   "version": "3.8.10"
  },
  "orig_nbformat": 4
 },
 "nbformat": 4,
 "nbformat_minor": 2
}
