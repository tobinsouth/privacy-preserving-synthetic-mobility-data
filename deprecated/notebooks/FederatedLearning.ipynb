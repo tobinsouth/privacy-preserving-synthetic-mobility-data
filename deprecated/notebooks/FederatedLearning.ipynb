{
 "cells": [
  {
   "cell_type": "markdown",
   "metadata": {},
   "source": [
    "Differentially private learning of embedding spaces.\n",
    "\n",
    "https://towardsdatascience.com/preserving-data-privacy-in-deep-learning-part-1-a04894f78029"
   ]
  },
  {
   "cell_type": "code",
   "execution_count": 1,
   "metadata": {},
   "outputs": [],
   "source": [
    "import torch, numpy as np\n",
    "from tqdm import tqdm"
   ]
  },
  {
   "cell_type": "code",
   "execution_count": 2,
   "metadata": {},
   "outputs": [],
   "source": [
    "num_clients = 10\n",
    "batch_size = 1\n",
    "lr =  0.001\n",
    "epochs = 10\n",
    "local_epochs = 3\n",
    "\n",
    "# Loss function params\n",
    "k = 0.0025\n",
    "x0 =2500"
   ]
  },
  {
   "cell_type": "markdown",
   "metadata": {},
   "source": [
    "# Data\n",
    "\n",
    "We're going to need to reprocess the data so that we group each user to have their own mobility."
   ]
  },
  {
   "cell_type": "code",
   "execution_count": 3,
   "metadata": {},
   "outputs": [],
   "source": [
    "import sys; sys.path.append('../scripts'); from dataloader import MobilitySeqDataset\n",
    "\n",
    "staysDataset = MobilitySeqDataset(root_dir='/mas/projects/privacy-pres-mobility/data/processed_data/', dataset='cuebiq')\n",
    "staysDataset = torch.utils.data.Subset(staysDataset, range(0, len(staysDataset), 100)) # Reduce data by a factor of 10\n",
    "\n",
    "# Dividing the training data into num_clients, with each client having equal number of images\n",
    "splits_lengths = [len(staysDataset) // (num_clients+1) for _ in range(num_clients+1)]\n",
    "data_split = torch.utils.data.random_split(staysDataset, splits_lengths +[len(staysDataset) - sum(splits_lengths)])\n",
    "\n",
    "from torch.nn.utils.rnn import pad_sequence\n",
    "collate_fn=lambda batch: pad_sequence(batch, batch_first=True, padding_value=0)\n",
    "splitloader = [torch.utils.data.DataLoader(x, batch_size=batch_size, shuffle=True, collate_fn=collate_fn) for x in data_split]\n",
    "\n",
    "trainingSplits = splitloader[:-1]\n",
    "testSplit = splitloader[-1]"
   ]
  },
  {
   "cell_type": "markdown",
   "metadata": {},
   "source": [
    "# Federated Updating"
   ]
  },
  {
   "cell_type": "code",
   "execution_count": 4,
   "metadata": {},
   "outputs": [],
   "source": [
    "# Custom loss function from paper\n",
    "NLL = torch.nn.NLLLoss(ignore_index=0, reduction='sum')\n",
    "\n",
    "def loss_fn(logp, target, mean, logv, step, k, x0):\n",
    "    \"\"\"The loss function used in the paper, taken from https://github.com/timbmg/Sentence-VAE\"\"\"\n",
    "    target = target.view(-1)\n",
    "    logp = logp.view(-1, logp.size(2))\n",
    "\n",
    "    # Negative Log Likelihood\n",
    "    NLL_loss = NLL(logp, target)\n",
    "\n",
    "    # KL Divergence\n",
    "    KL_loss = -0.5 * torch.sum(1 + logv - mean.pow(2) - logv.exp())\n",
    "    KL_weight = float(1/(1+np.exp(-k*(step-x0))))\n",
    "\n",
    "    return NLL_loss, KL_loss, KL_weight"
   ]
  },
  {
   "cell_type": "code",
   "execution_count": 5,
   "metadata": {},
   "outputs": [],
   "source": [
    "def client_update(client_model, optimizer, train_loader, local_epochs=1, name='Client'):\n",
    "    \"\"\"\n",
    "    This function updates/trains client model on client data\n",
    "    \"\"\"\n",
    "    model.train()\n",
    "    total_loss = 0\n",
    "    step = 0\n",
    "    for e in range(local_epochs):\n",
    "        for batch in tqdm(train_loader, desc=name+' Local Epoch: {}'.format(e), position=0, miniters=100):\n",
    "            batch = batch.to(device)\n",
    "            logp, mean, logv, z = client_model(batch)\n",
    "            NLL_loss, KL_loss, KL_weight = loss_fn(logp, batch, mean, logv, step, k, x0)\n",
    "            loss = (NLL_loss + KL_weight * KL_loss) / batch_size\n",
    "            optimizer.zero_grad()\n",
    "            loss.backward()\n",
    "            optimizer.step()\n",
    "            step += 1\n",
    "            total_loss += loss.item()\n",
    "        print('total_loss:', total_loss / len(train_loader))\n",
    "    return total_loss / len(train_loader)"
   ]
  },
  {
   "cell_type": "code",
   "execution_count": 6,
   "metadata": {},
   "outputs": [],
   "source": [
    "def server_aggregate(global_model, client_models):\n",
    "    \"\"\"\n",
    "    This function has aggregation method 'mean'\n",
    "    \"\"\"\n",
    "    ### This will take simple mean of the weights of models ###\n",
    "    global_dict = global_model.state_dict()\n",
    "    for k in global_dict.keys():\n",
    "        global_dict[k] = torch.stack([client_models[i].state_dict()[k].float() for i in range(len(client_models))], 0).mean(0)\n",
    "    global_model.load_state_dict(global_dict)\n",
    "    for model in client_models:\n",
    "        model.load_state_dict(global_model.state_dict())"
   ]
  },
  {
   "cell_type": "code",
   "execution_count": 7,
   "metadata": {},
   "outputs": [],
   "source": [
    "def test(model, test_loader):\n",
    "    \"\"\"This function test the global model on test data and returns test loss and test accuracy \"\"\"\n",
    "    model.eval()\n",
    "    val_loss = 0\n",
    "    step = 0\n",
    "    with torch.no_grad():\n",
    "        for batch in test_loader:\n",
    "            batch = batch.to(device)\n",
    "            logp, mean, logv, z = model(batch)\n",
    "            NLL_loss, KL_loss, KL_weight = loss_fn(logp, batch, mean, logv, step, k, x0)\n",
    "            loss = (NLL_loss + KL_weight * KL_loss) / batch_size\n",
    "            val_loss += loss.item()\n",
    "\n",
    "    val_loss /= len(test_loader)\n",
    "    return val_loss"
   ]
  },
  {
   "cell_type": "markdown",
   "metadata": {},
   "source": [
    "# Training"
   ]
  },
  {
   "cell_type": "code",
   "execution_count": 8,
   "metadata": {},
   "outputs": [],
   "source": [
    "import sys; sys.path.append('../scripts');\n",
    "from VAE import SentenceVAE, device "
   ]
  },
  {
   "cell_type": "code",
   "execution_count": 9,
   "metadata": {},
   "outputs": [],
   "source": [
    "class ClientModel(SentenceVAE):\n",
    "    \"\"\"A little class for each client model\"\"\"\n",
    "    def __init__(self, **params):\n",
    "        super().__init__(**params)\n",
    "        self.name = 'Client Model'"
   ]
  },
  {
   "cell_type": "code",
   "execution_count": 10,
   "metadata": {},
   "outputs": [],
   "source": [
    "params = dict(\n",
    "    vocab_size = staysDataset.dataset._vocab_size,\n",
    "    max_sequence_length = staysDataset.dataset._max_seq_len,\n",
    "    embedding_size = 256,\n",
    "    rnn_type =  'gru',\n",
    "    hidden_size = 256,\n",
    "    num_layers = 1,\n",
    "    bidirectional = False,\n",
    "    latent_size = 16,\n",
    "    word_dropout = 0,\n",
    "    embedding_dropout = 0.5,\n",
    "    sos_idx=0,\n",
    "    eos_idx=0,\n",
    "    pad_idx=0,\n",
    "    unk_idx=1,\n",
    ")"
   ]
  },
  {
   "cell_type": "code",
   "execution_count": 11,
   "metadata": {},
   "outputs": [],
   "source": [
    "#### global model ##########\n",
    "global_model =  SentenceVAE(**params).to(device)\n",
    "\n",
    "############## client models ##############\n",
    "client_models = [ SentenceVAE(**params).to(device) for _ in range(num_clients)]\n",
    "for model in client_models:\n",
    "    model.load_state_dict(global_model.state_dict()) ### initial synchronizing with global model \n",
    "\n",
    "############### optimizers ################\n",
    "optimizer = torch.optim.Adam(model.parameters(), lr=lr)\n",
    "optimizers = [torch.optim.Adam(model.parameters(), lr=lr) for model in client_models]\n"
   ]
  },
  {
   "cell_type": "code",
   "execution_count": 16,
   "metadata": {},
   "outputs": [
    {
     "name": "stderr",
     "output_type": "stream",
     "text": [
      "Client 0, Epoch 0 Local Epoch: 0: 100%|██████████| 5176/5176 [00:33<00:00, 153.89it/s]\n"
     ]
    },
    {
     "name": "stdout",
     "output_type": "stream",
     "text": [
      "total_loss: 9.374861135111587\n"
     ]
    },
    {
     "name": "stderr",
     "output_type": "stream",
     "text": [
      "Client 0, Epoch 0 Local Epoch: 1: 100%|██████████| 5176/5176 [00:33<00:00, 152.83it/s]\n"
     ]
    },
    {
     "name": "stdout",
     "output_type": "stream",
     "text": [
      "total_loss: 13.286466013106184\n"
     ]
    },
    {
     "name": "stderr",
     "output_type": "stream",
     "text": [
      "Client 0, Epoch 0 Local Epoch: 2: 100%|██████████| 5176/5176 [00:33<00:00, 155.50it/s]\n"
     ]
    },
    {
     "name": "stdout",
     "output_type": "stream",
     "text": [
      "total_loss: 15.051451826315123\n"
     ]
    },
    {
     "name": "stderr",
     "output_type": "stream",
     "text": [
      "Client 1, Epoch 0 Local Epoch: 0: 100%|██████████| 5176/5176 [00:33<00:00, 153.76it/s]\n"
     ]
    },
    {
     "name": "stdout",
     "output_type": "stream",
     "text": [
      "total_loss: 10.211290177010133\n"
     ]
    },
    {
     "name": "stderr",
     "output_type": "stream",
     "text": [
      "Client 1, Epoch 0 Local Epoch: 1: 100%|██████████| 5176/5176 [00:32<00:00, 157.63it/s]\n"
     ]
    },
    {
     "name": "stdout",
     "output_type": "stream",
     "text": [
      "total_loss: 14.384198111477675\n"
     ]
    },
    {
     "name": "stderr",
     "output_type": "stream",
     "text": [
      "Client 1, Epoch 0 Local Epoch: 2: 100%|██████████| 5176/5176 [00:32<00:00, 156.97it/s]\n"
     ]
    },
    {
     "name": "stdout",
     "output_type": "stream",
     "text": [
      "total_loss: 16.315157744899103\n"
     ]
    },
    {
     "name": "stderr",
     "output_type": "stream",
     "text": [
      "Client 2, Epoch 0 Local Epoch: 0: 100%|██████████| 5176/5176 [00:33<00:00, 154.57it/s]\n"
     ]
    },
    {
     "name": "stdout",
     "output_type": "stream",
     "text": [
      "total_loss: 9.538843217578345\n"
     ]
    },
    {
     "name": "stderr",
     "output_type": "stream",
     "text": [
      "Client 2, Epoch 0 Local Epoch: 1: 100%|██████████| 5176/5176 [00:33<00:00, 155.39it/s]\n"
     ]
    },
    {
     "name": "stdout",
     "output_type": "stream",
     "text": [
      "total_loss: 13.353936038142802\n"
     ]
    },
    {
     "name": "stderr",
     "output_type": "stream",
     "text": [
      "Client 2, Epoch 0 Local Epoch: 2: 100%|██████████| 5176/5176 [00:33<00:00, 153.10it/s]\n"
     ]
    },
    {
     "name": "stdout",
     "output_type": "stream",
     "text": [
      "total_loss: 15.11790364056042\n"
     ]
    },
    {
     "name": "stderr",
     "output_type": "stream",
     "text": [
      "Client 3, Epoch 0 Local Epoch: 0: 100%|██████████| 5176/5176 [00:33<00:00, 155.58it/s]\n"
     ]
    },
    {
     "name": "stdout",
     "output_type": "stream",
     "text": [
      "total_loss: 9.755277300774305\n"
     ]
    },
    {
     "name": "stderr",
     "output_type": "stream",
     "text": [
      "Client 3, Epoch 0 Local Epoch: 1: 100%|██████████| 5176/5176 [00:33<00:00, 155.33it/s]\n"
     ]
    },
    {
     "name": "stdout",
     "output_type": "stream",
     "text": [
      "total_loss: 13.653012119730937\n"
     ]
    },
    {
     "name": "stderr",
     "output_type": "stream",
     "text": [
      "Client 3, Epoch 0 Local Epoch: 2: 100%|██████████| 5176/5176 [00:33<00:00, 154.79it/s]\n"
     ]
    },
    {
     "name": "stdout",
     "output_type": "stream",
     "text": [
      "total_loss: 15.419386318672922\n"
     ]
    },
    {
     "name": "stderr",
     "output_type": "stream",
     "text": [
      "Client 4, Epoch 0 Local Epoch: 0: 100%|██████████| 5176/5176 [00:33<00:00, 153.94it/s]\n"
     ]
    },
    {
     "name": "stdout",
     "output_type": "stream",
     "text": [
      "total_loss: 9.814262903429551\n"
     ]
    },
    {
     "name": "stderr",
     "output_type": "stream",
     "text": [
      "Client 4, Epoch 0 Local Epoch: 1: 100%|██████████| 5176/5176 [00:33<00:00, 155.57it/s]\n"
     ]
    },
    {
     "name": "stdout",
     "output_type": "stream",
     "text": [
      "total_loss: 13.813786918436334\n"
     ]
    },
    {
     "name": "stderr",
     "output_type": "stream",
     "text": [
      "Client 4, Epoch 0 Local Epoch: 2: 100%|██████████| 5176/5176 [00:33<00:00, 154.15it/s]\n"
     ]
    },
    {
     "name": "stdout",
     "output_type": "stream",
     "text": [
      "total_loss: 15.605087470568296\n"
     ]
    },
    {
     "name": "stderr",
     "output_type": "stream",
     "text": [
      "Client 5, Epoch 0 Local Epoch: 0: 100%|██████████| 5176/5176 [00:33<00:00, 154.92it/s]\n"
     ]
    },
    {
     "name": "stdout",
     "output_type": "stream",
     "text": [
      "total_loss: 9.609969726206655\n"
     ]
    },
    {
     "name": "stderr",
     "output_type": "stream",
     "text": [
      "Client 5, Epoch 0 Local Epoch: 1: 100%|██████████| 5176/5176 [00:33<00:00, 156.33it/s]\n"
     ]
    },
    {
     "name": "stdout",
     "output_type": "stream",
     "text": [
      "total_loss: 13.718149339164595\n"
     ]
    },
    {
     "name": "stderr",
     "output_type": "stream",
     "text": [
      "Client 5, Epoch 0 Local Epoch: 2: 100%|██████████| 5176/5176 [00:33<00:00, 156.26it/s]\n"
     ]
    },
    {
     "name": "stdout",
     "output_type": "stream",
     "text": [
      "total_loss: 15.50920909350794\n"
     ]
    },
    {
     "name": "stderr",
     "output_type": "stream",
     "text": [
      "Client 6, Epoch 0 Local Epoch: 0: 100%|██████████| 5176/5176 [00:33<00:00, 155.98it/s]\n"
     ]
    },
    {
     "name": "stdout",
     "output_type": "stream",
     "text": [
      "total_loss: 9.434020207228645\n"
     ]
    },
    {
     "name": "stderr",
     "output_type": "stream",
     "text": [
      "Client 6, Epoch 0 Local Epoch: 1: 100%|██████████| 5176/5176 [00:32<00:00, 157.06it/s]\n"
     ]
    },
    {
     "name": "stdout",
     "output_type": "stream",
     "text": [
      "total_loss: 13.353186267774634\n"
     ]
    },
    {
     "name": "stderr",
     "output_type": "stream",
     "text": [
      "Client 6, Epoch 0 Local Epoch: 2: 100%|██████████| 5176/5176 [00:33<00:00, 155.66it/s]\n"
     ]
    },
    {
     "name": "stdout",
     "output_type": "stream",
     "text": [
      "total_loss: 15.258231400924762\n"
     ]
    },
    {
     "name": "stderr",
     "output_type": "stream",
     "text": [
      "Client 7, Epoch 0 Local Epoch: 0: 100%|██████████| 5176/5176 [00:30<00:00, 167.44it/s]\n"
     ]
    },
    {
     "name": "stdout",
     "output_type": "stream",
     "text": [
      "total_loss: 9.258473897501258\n"
     ]
    },
    {
     "name": "stderr",
     "output_type": "stream",
     "text": [
      "Client 7, Epoch 0 Local Epoch: 1: 100%|██████████| 5176/5176 [00:33<00:00, 154.05it/s]\n"
     ]
    },
    {
     "name": "stdout",
     "output_type": "stream",
     "text": [
      "total_loss: 13.066996686168705\n"
     ]
    },
    {
     "name": "stderr",
     "output_type": "stream",
     "text": [
      "Client 7, Epoch 0 Local Epoch: 2: 100%|██████████| 5176/5176 [00:33<00:00, 155.72it/s]\n"
     ]
    },
    {
     "name": "stdout",
     "output_type": "stream",
     "text": [
      "total_loss: 14.826420324227845\n"
     ]
    },
    {
     "name": "stderr",
     "output_type": "stream",
     "text": [
      "Client 8, Epoch 0 Local Epoch: 0: 100%|██████████| 5176/5176 [00:33<00:00, 154.74it/s]\n"
     ]
    },
    {
     "name": "stdout",
     "output_type": "stream",
     "text": [
      "total_loss: 9.306060565105328\n"
     ]
    },
    {
     "name": "stderr",
     "output_type": "stream",
     "text": [
      "Client 8, Epoch 0 Local Epoch: 1: 100%|██████████| 5176/5176 [00:33<00:00, 155.42it/s]\n"
     ]
    },
    {
     "name": "stdout",
     "output_type": "stream",
     "text": [
      "total_loss: 13.481007670997842\n"
     ]
    },
    {
     "name": "stderr",
     "output_type": "stream",
     "text": [
      "Client 8, Epoch 0 Local Epoch: 2: 100%|██████████| 5176/5176 [00:33<00:00, 154.47it/s]\n"
     ]
    },
    {
     "name": "stdout",
     "output_type": "stream",
     "text": [
      "total_loss: 15.419133000261562\n"
     ]
    },
    {
     "name": "stderr",
     "output_type": "stream",
     "text": [
      "Client 9, Epoch 0 Local Epoch: 0: 100%|██████████| 5176/5176 [00:33<00:00, 154.50it/s]\n"
     ]
    },
    {
     "name": "stdout",
     "output_type": "stream",
     "text": [
      "total_loss: 10.457430697185139\n"
     ]
    },
    {
     "name": "stderr",
     "output_type": "stream",
     "text": [
      "Client 9, Epoch 0 Local Epoch: 1: 100%|██████████| 5176/5176 [00:32<00:00, 159.91it/s]\n"
     ]
    },
    {
     "name": "stdout",
     "output_type": "stream",
     "text": [
      "total_loss: 14.48161699366198\n"
     ]
    },
    {
     "name": "stderr",
     "output_type": "stream",
     "text": [
      "Client 9, Epoch 0 Local Epoch: 2: 100%|██████████| 5176/5176 [00:33<00:00, 155.44it/s]\n"
     ]
    },
    {
     "name": "stdout",
     "output_type": "stream",
     "text": [
      "total_loss: 16.17965701626872\n",
      "average train loss 15.5 | test loss 37.5\n"
     ]
    },
    {
     "name": "stderr",
     "output_type": "stream",
     "text": [
      "Client 0, Epoch 1 Local Epoch: 0: 100%|██████████| 5176/5176 [00:33<00:00, 155.35it/s]\n"
     ]
    },
    {
     "name": "stdout",
     "output_type": "stream",
     "text": [
      "total_loss: 8.768646789502982\n"
     ]
    },
    {
     "name": "stderr",
     "output_type": "stream",
     "text": [
      "Client 0, Epoch 1 Local Epoch: 1: 100%|██████████| 5176/5176 [00:33<00:00, 154.67it/s]\n"
     ]
    },
    {
     "name": "stdout",
     "output_type": "stream",
     "text": [
      "total_loss: 12.220890204100645\n"
     ]
    },
    {
     "name": "stderr",
     "output_type": "stream",
     "text": [
      "Client 0, Epoch 1 Local Epoch: 2: 100%|██████████| 5176/5176 [00:33<00:00, 154.72it/s]\n"
     ]
    },
    {
     "name": "stdout",
     "output_type": "stream",
     "text": [
      "total_loss: 13.814174919723408\n"
     ]
    },
    {
     "name": "stderr",
     "output_type": "stream",
     "text": [
      "Client 1, Epoch 1 Local Epoch: 0: 100%|██████████| 5176/5176 [00:33<00:00, 154.75it/s]\n"
     ]
    },
    {
     "name": "stdout",
     "output_type": "stream",
     "text": [
      "total_loss: 9.02431054511467\n"
     ]
    },
    {
     "name": "stderr",
     "output_type": "stream",
     "text": [
      "Client 1, Epoch 1 Local Epoch: 1: 100%|██████████| 5176/5176 [00:33<00:00, 154.21it/s]\n"
     ]
    },
    {
     "name": "stdout",
     "output_type": "stream",
     "text": [
      "total_loss: 12.711478260992783\n"
     ]
    },
    {
     "name": "stderr",
     "output_type": "stream",
     "text": [
      "Client 1, Epoch 1 Local Epoch: 2: 100%|██████████| 5176/5176 [00:33<00:00, 155.30it/s]\n"
     ]
    },
    {
     "name": "stdout",
     "output_type": "stream",
     "text": [
      "total_loss: 14.296469453579165\n"
     ]
    },
    {
     "name": "stderr",
     "output_type": "stream",
     "text": [
      "Client 2, Epoch 1 Local Epoch: 0: 100%|██████████| 5176/5176 [00:33<00:00, 156.09it/s]\n"
     ]
    },
    {
     "name": "stdout",
     "output_type": "stream",
     "text": [
      "total_loss: 8.988660481722508\n"
     ]
    },
    {
     "name": "stderr",
     "output_type": "stream",
     "text": [
      "Client 2, Epoch 1 Local Epoch: 1: 100%|██████████| 5176/5176 [00:33<00:00, 155.95it/s]\n"
     ]
    },
    {
     "name": "stdout",
     "output_type": "stream",
     "text": [
      "total_loss: 12.555524511184784\n"
     ]
    },
    {
     "name": "stderr",
     "output_type": "stream",
     "text": [
      "Client 2, Epoch 1 Local Epoch: 2: 100%|██████████| 5176/5176 [00:33<00:00, 156.40it/s]\n"
     ]
    },
    {
     "name": "stdout",
     "output_type": "stream",
     "text": [
      "total_loss: 14.193281389956056\n"
     ]
    },
    {
     "name": "stderr",
     "output_type": "stream",
     "text": [
      "Client 3, Epoch 1 Local Epoch: 0: 100%|██████████| 5176/5176 [00:33<00:00, 154.83it/s]\n"
     ]
    },
    {
     "name": "stdout",
     "output_type": "stream",
     "text": [
      "total_loss: 9.622997273039632\n"
     ]
    },
    {
     "name": "stderr",
     "output_type": "stream",
     "text": [
      "Client 3, Epoch 1 Local Epoch: 1: 100%|██████████| 5176/5176 [00:33<00:00, 154.43it/s]\n"
     ]
    },
    {
     "name": "stdout",
     "output_type": "stream",
     "text": [
      "total_loss: 13.261431088994406\n"
     ]
    },
    {
     "name": "stderr",
     "output_type": "stream",
     "text": [
      "Client 3, Epoch 1 Local Epoch: 2: 100%|██████████| 5176/5176 [00:33<00:00, 154.95it/s]\n"
     ]
    },
    {
     "name": "stdout",
     "output_type": "stream",
     "text": [
      "total_loss: 14.788661469172549\n"
     ]
    },
    {
     "name": "stderr",
     "output_type": "stream",
     "text": [
      "Client 4, Epoch 1 Local Epoch: 0: 100%|██████████| 5176/5176 [00:33<00:00, 154.79it/s]\n"
     ]
    },
    {
     "name": "stdout",
     "output_type": "stream",
     "text": [
      "total_loss: 9.146030359877685\n"
     ]
    },
    {
     "name": "stderr",
     "output_type": "stream",
     "text": [
      "Client 4, Epoch 1 Local Epoch: 1: 100%|██████████| 5176/5176 [00:33<00:00, 155.99it/s]\n"
     ]
    },
    {
     "name": "stdout",
     "output_type": "stream",
     "text": [
      "total_loss: 12.856008419453437\n"
     ]
    },
    {
     "name": "stderr",
     "output_type": "stream",
     "text": [
      "Client 4, Epoch 1 Local Epoch: 2: 100%|██████████| 5176/5176 [00:33<00:00, 153.11it/s]\n"
     ]
    },
    {
     "name": "stdout",
     "output_type": "stream",
     "text": [
      "total_loss: 14.430918359034468\n"
     ]
    },
    {
     "name": "stderr",
     "output_type": "stream",
     "text": [
      "Client 5, Epoch 1 Local Epoch: 0: 100%|██████████| 5176/5176 [00:32<00:00, 157.73it/s]\n"
     ]
    },
    {
     "name": "stdout",
     "output_type": "stream",
     "text": [
      "total_loss: 9.275018025941272\n"
     ]
    },
    {
     "name": "stderr",
     "output_type": "stream",
     "text": [
      "Client 5, Epoch 1 Local Epoch: 1: 100%|██████████| 5176/5176 [00:33<00:00, 153.45it/s]\n"
     ]
    },
    {
     "name": "stdout",
     "output_type": "stream",
     "text": [
      "total_loss: 12.882294815004956\n"
     ]
    },
    {
     "name": "stderr",
     "output_type": "stream",
     "text": [
      "Client 5, Epoch 1 Local Epoch: 2: 100%|██████████| 5176/5176 [00:33<00:00, 155.80it/s]\n"
     ]
    },
    {
     "name": "stdout",
     "output_type": "stream",
     "text": [
      "total_loss: 14.515378826782072\n"
     ]
    },
    {
     "name": "stderr",
     "output_type": "stream",
     "text": [
      "Client 6, Epoch 1 Local Epoch: 0: 100%|██████████| 5176/5176 [00:33<00:00, 156.17it/s]\n"
     ]
    },
    {
     "name": "stdout",
     "output_type": "stream",
     "text": [
      "total_loss: 8.450246746346869\n"
     ]
    },
    {
     "name": "stderr",
     "output_type": "stream",
     "text": [
      "Client 6, Epoch 1 Local Epoch: 1: 100%|██████████| 5176/5176 [00:33<00:00, 155.76it/s]\n"
     ]
    },
    {
     "name": "stdout",
     "output_type": "stream",
     "text": [
      "total_loss: 11.94509982555638\n"
     ]
    },
    {
     "name": "stderr",
     "output_type": "stream",
     "text": [
      "Client 6, Epoch 1 Local Epoch: 2: 100%|██████████| 5176/5176 [00:33<00:00, 155.15it/s]\n"
     ]
    },
    {
     "name": "stdout",
     "output_type": "stream",
     "text": [
      "total_loss: 13.548975507089803\n"
     ]
    },
    {
     "name": "stderr",
     "output_type": "stream",
     "text": [
      "Client 7, Epoch 1 Local Epoch: 0: 100%|██████████| 5176/5176 [00:33<00:00, 154.13it/s]\n"
     ]
    },
    {
     "name": "stdout",
     "output_type": "stream",
     "text": [
      "total_loss: 8.8022380145349\n"
     ]
    },
    {
     "name": "stderr",
     "output_type": "stream",
     "text": [
      "Client 7, Epoch 1 Local Epoch: 1: 100%|██████████| 5176/5176 [00:33<00:00, 154.65it/s]\n"
     ]
    },
    {
     "name": "stdout",
     "output_type": "stream",
     "text": [
      "total_loss: 12.174154353920581\n"
     ]
    },
    {
     "name": "stderr",
     "output_type": "stream",
     "text": [
      "Client 7, Epoch 1 Local Epoch: 2: 100%|██████████| 5176/5176 [00:33<00:00, 156.18it/s]\n"
     ]
    },
    {
     "name": "stdout",
     "output_type": "stream",
     "text": [
      "total_loss: 13.674370913216054\n"
     ]
    },
    {
     "name": "stderr",
     "output_type": "stream",
     "text": [
      "Client 8, Epoch 1 Local Epoch: 0: 100%|██████████| 5176/5176 [00:32<00:00, 156.88it/s]\n"
     ]
    },
    {
     "name": "stdout",
     "output_type": "stream",
     "text": [
      "total_loss: 9.116496527475341\n"
     ]
    },
    {
     "name": "stderr",
     "output_type": "stream",
     "text": [
      "Client 8, Epoch 1 Local Epoch: 1: 100%|██████████| 5176/5176 [00:33<00:00, 154.67it/s]\n"
     ]
    },
    {
     "name": "stdout",
     "output_type": "stream",
     "text": [
      "total_loss: 12.89842133114766\n"
     ]
    },
    {
     "name": "stderr",
     "output_type": "stream",
     "text": [
      "Client 8, Epoch 1 Local Epoch: 2: 100%|██████████| 5176/5176 [00:33<00:00, 155.33it/s]\n"
     ]
    },
    {
     "name": "stdout",
     "output_type": "stream",
     "text": [
      "total_loss: 14.662987398598146\n"
     ]
    },
    {
     "name": "stderr",
     "output_type": "stream",
     "text": [
      "Client 9, Epoch 1 Local Epoch: 0: 100%|██████████| 5176/5176 [00:32<00:00, 159.19it/s]\n"
     ]
    },
    {
     "name": "stdout",
     "output_type": "stream",
     "text": [
      "total_loss: 9.693106159580031\n"
     ]
    },
    {
     "name": "stderr",
     "output_type": "stream",
     "text": [
      "Client 9, Epoch 1 Local Epoch: 1: 100%|██████████| 5176/5176 [00:33<00:00, 154.24it/s]\n"
     ]
    },
    {
     "name": "stdout",
     "output_type": "stream",
     "text": [
      "total_loss: 13.228818144813324\n"
     ]
    },
    {
     "name": "stderr",
     "output_type": "stream",
     "text": [
      "Client 9, Epoch 1 Local Epoch: 2: 100%|██████████| 5176/5176 [00:33<00:00, 154.95it/s]\n"
     ]
    },
    {
     "name": "stdout",
     "output_type": "stream",
     "text": [
      "total_loss: 14.7375676255632\n",
      "average train loss 14.3 | test loss 38.4\n"
     ]
    },
    {
     "name": "stderr",
     "output_type": "stream",
     "text": [
      "Client 0, Epoch 2 Local Epoch: 0: 100%|██████████| 5176/5176 [00:33<00:00, 153.89it/s]\n"
     ]
    },
    {
     "name": "stdout",
     "output_type": "stream",
     "text": [
      "total_loss: 8.588608481881598\n"
     ]
    },
    {
     "name": "stderr",
     "output_type": "stream",
     "text": [
      "Client 0, Epoch 2 Local Epoch: 1: 100%|██████████| 5176/5176 [00:33<00:00, 155.63it/s]\n"
     ]
    },
    {
     "name": "stdout",
     "output_type": "stream",
     "text": [
      "total_loss: 11.69303588619499\n"
     ]
    },
    {
     "name": "stderr",
     "output_type": "stream",
     "text": [
      "Client 0, Epoch 2 Local Epoch: 2: 100%|██████████| 5176/5176 [00:33<00:00, 154.35it/s]\n"
     ]
    },
    {
     "name": "stdout",
     "output_type": "stream",
     "text": [
      "total_loss: 12.972968541737663\n"
     ]
    },
    {
     "name": "stderr",
     "output_type": "stream",
     "text": [
      "Client 1, Epoch 2 Local Epoch: 0: 100%|██████████| 5176/5176 [00:33<00:00, 154.08it/s]\n"
     ]
    },
    {
     "name": "stdout",
     "output_type": "stream",
     "text": [
      "total_loss: 8.845137421643399\n"
     ]
    },
    {
     "name": "stderr",
     "output_type": "stream",
     "text": [
      "Client 1, Epoch 2 Local Epoch: 1: 100%|██████████| 5176/5176 [00:33<00:00, 155.02it/s]\n"
     ]
    },
    {
     "name": "stdout",
     "output_type": "stream",
     "text": [
      "total_loss: 12.111371950118269\n"
     ]
    },
    {
     "name": "stderr",
     "output_type": "stream",
     "text": [
      "Client 1, Epoch 2 Local Epoch: 2: 100%|██████████| 5176/5176 [00:33<00:00, 155.76it/s]\n"
     ]
    },
    {
     "name": "stdout",
     "output_type": "stream",
     "text": [
      "total_loss: 13.447741216396818\n"
     ]
    },
    {
     "name": "stderr",
     "output_type": "stream",
     "text": [
      "Client 2, Epoch 2 Local Epoch: 0: 100%|██████████| 5176/5176 [00:33<00:00, 154.75it/s]\n"
     ]
    },
    {
     "name": "stdout",
     "output_type": "stream",
     "text": [
      "total_loss: 8.49010772893736\n"
     ]
    },
    {
     "name": "stderr",
     "output_type": "stream",
     "text": [
      "Client 2, Epoch 2 Local Epoch: 1: 100%|██████████| 5176/5176 [00:32<00:00, 157.39it/s]\n"
     ]
    },
    {
     "name": "stdout",
     "output_type": "stream",
     "text": [
      "total_loss: 11.655647441270487\n"
     ]
    },
    {
     "name": "stderr",
     "output_type": "stream",
     "text": [
      "Client 2, Epoch 2 Local Epoch: 2: 100%|██████████| 5176/5176 [00:33<00:00, 152.87it/s]\n"
     ]
    },
    {
     "name": "stdout",
     "output_type": "stream",
     "text": [
      "total_loss: 12.99469829349369\n"
     ]
    },
    {
     "name": "stderr",
     "output_type": "stream",
     "text": [
      "Client 3, Epoch 2 Local Epoch: 0: 100%|██████████| 5176/5176 [00:33<00:00, 154.17it/s]\n"
     ]
    },
    {
     "name": "stdout",
     "output_type": "stream",
     "text": [
      "total_loss: 8.958411383871065\n"
     ]
    },
    {
     "name": "stderr",
     "output_type": "stream",
     "text": [
      "Client 3, Epoch 2 Local Epoch: 1: 100%|██████████| 5176/5176 [00:33<00:00, 153.91it/s]\n"
     ]
    },
    {
     "name": "stdout",
     "output_type": "stream",
     "text": [
      "total_loss: 12.054433968431885\n"
     ]
    },
    {
     "name": "stderr",
     "output_type": "stream",
     "text": [
      "Client 3, Epoch 2 Local Epoch: 2: 100%|██████████| 5176/5176 [00:33<00:00, 152.89it/s]\n"
     ]
    },
    {
     "name": "stdout",
     "output_type": "stream",
     "text": [
      "total_loss: 13.33616478242952\n"
     ]
    },
    {
     "name": "stderr",
     "output_type": "stream",
     "text": [
      "Client 4, Epoch 2 Local Epoch: 0: 100%|██████████| 5176/5176 [00:33<00:00, 153.66it/s]\n"
     ]
    },
    {
     "name": "stdout",
     "output_type": "stream",
     "text": [
      "total_loss: 8.336874304738947\n"
     ]
    },
    {
     "name": "stderr",
     "output_type": "stream",
     "text": [
      "Client 4, Epoch 2 Local Epoch: 1: 100%|██████████| 5176/5176 [00:33<00:00, 154.59it/s]\n"
     ]
    },
    {
     "name": "stdout",
     "output_type": "stream",
     "text": [
      "total_loss: 11.454614746375379\n"
     ]
    },
    {
     "name": "stderr",
     "output_type": "stream",
     "text": [
      "Client 4, Epoch 2 Local Epoch: 2: 100%|██████████| 5176/5176 [00:33<00:00, 154.42it/s]\n"
     ]
    },
    {
     "name": "stdout",
     "output_type": "stream",
     "text": [
      "total_loss: 12.796777099170443\n"
     ]
    },
    {
     "name": "stderr",
     "output_type": "stream",
     "text": [
      "Client 5, Epoch 2 Local Epoch: 0: 100%|██████████| 5176/5176 [00:34<00:00, 151.14it/s]\n"
     ]
    },
    {
     "name": "stdout",
     "output_type": "stream",
     "text": [
      "total_loss: 8.67314757346227\n"
     ]
    },
    {
     "name": "stderr",
     "output_type": "stream",
     "text": [
      "Client 5, Epoch 2 Local Epoch: 1: 100%|██████████| 5176/5176 [00:33<00:00, 155.34it/s]\n"
     ]
    },
    {
     "name": "stdout",
     "output_type": "stream",
     "text": [
      "total_loss: 11.842856295275123\n"
     ]
    },
    {
     "name": "stderr",
     "output_type": "stream",
     "text": [
      "Client 5, Epoch 2 Local Epoch: 2: 100%|██████████| 5176/5176 [00:33<00:00, 153.62it/s]\n"
     ]
    },
    {
     "name": "stdout",
     "output_type": "stream",
     "text": [
      "total_loss: 13.195991985636084\n"
     ]
    },
    {
     "name": "stderr",
     "output_type": "stream",
     "text": [
      "Client 6, Epoch 2 Local Epoch: 0: 100%|██████████| 5176/5176 [00:32<00:00, 158.57it/s]\n"
     ]
    },
    {
     "name": "stdout",
     "output_type": "stream",
     "text": [
      "total_loss: 8.138886130439221\n"
     ]
    },
    {
     "name": "stderr",
     "output_type": "stream",
     "text": [
      "Client 6, Epoch 2 Local Epoch: 1: 100%|██████████| 5176/5176 [00:33<00:00, 155.65it/s]\n"
     ]
    },
    {
     "name": "stdout",
     "output_type": "stream",
     "text": [
      "total_loss: 11.268061115146834\n"
     ]
    },
    {
     "name": "stderr",
     "output_type": "stream",
     "text": [
      "Client 6, Epoch 2 Local Epoch: 2: 100%|██████████| 5176/5176 [00:33<00:00, 155.79it/s]\n"
     ]
    },
    {
     "name": "stdout",
     "output_type": "stream",
     "text": [
      "total_loss: 12.598424661939404\n"
     ]
    },
    {
     "name": "stderr",
     "output_type": "stream",
     "text": [
      "Client 7, Epoch 2 Local Epoch: 0: 100%|██████████| 5176/5176 [00:32<00:00, 157.04it/s]\n"
     ]
    },
    {
     "name": "stdout",
     "output_type": "stream",
     "text": [
      "total_loss: 8.655398212675967\n"
     ]
    },
    {
     "name": "stderr",
     "output_type": "stream",
     "text": [
      "Client 7, Epoch 2 Local Epoch: 1: 100%|██████████| 5176/5176 [00:33<00:00, 154.79it/s]\n"
     ]
    },
    {
     "name": "stdout",
     "output_type": "stream",
     "text": [
      "total_loss: 11.825969173327783\n"
     ]
    },
    {
     "name": "stderr",
     "output_type": "stream",
     "text": [
      "Client 7, Epoch 2 Local Epoch: 2: 100%|██████████| 5176/5176 [00:33<00:00, 153.85it/s]\n"
     ]
    },
    {
     "name": "stdout",
     "output_type": "stream",
     "text": [
      "total_loss: 13.1781774442218\n"
     ]
    },
    {
     "name": "stderr",
     "output_type": "stream",
     "text": [
      "Client 8, Epoch 2 Local Epoch: 0: 100%|██████████| 5176/5176 [00:33<00:00, 154.93it/s]\n"
     ]
    },
    {
     "name": "stdout",
     "output_type": "stream",
     "text": [
      "total_loss: 8.035671995071404\n"
     ]
    },
    {
     "name": "stderr",
     "output_type": "stream",
     "text": [
      "Client 8, Epoch 2 Local Epoch: 1: 100%|██████████| 5176/5176 [00:33<00:00, 154.49it/s]\n"
     ]
    },
    {
     "name": "stdout",
     "output_type": "stream",
     "text": [
      "total_loss: 11.08835400047525\n"
     ]
    },
    {
     "name": "stderr",
     "output_type": "stream",
     "text": [
      "Client 8, Epoch 2 Local Epoch: 2: 100%|██████████| 5176/5176 [00:33<00:00, 156.45it/s]\n"
     ]
    },
    {
     "name": "stdout",
     "output_type": "stream",
     "text": [
      "total_loss: 12.54761684305459\n"
     ]
    },
    {
     "name": "stderr",
     "output_type": "stream",
     "text": [
      "Client 9, Epoch 2 Local Epoch: 0: 100%|██████████| 5176/5176 [00:32<00:00, 159.42it/s]\n"
     ]
    },
    {
     "name": "stdout",
     "output_type": "stream",
     "text": [
      "total_loss: 8.913402539168562\n"
     ]
    },
    {
     "name": "stderr",
     "output_type": "stream",
     "text": [
      "Client 9, Epoch 2 Local Epoch: 1: 100%|██████████| 5176/5176 [00:33<00:00, 153.26it/s]\n"
     ]
    },
    {
     "name": "stdout",
     "output_type": "stream",
     "text": [
      "total_loss: 11.94445024432454\n"
     ]
    },
    {
     "name": "stderr",
     "output_type": "stream",
     "text": [
      "Client 9, Epoch 2 Local Epoch: 2: 100%|██████████| 5176/5176 [00:33<00:00, 153.33it/s]\n"
     ]
    },
    {
     "name": "stdout",
     "output_type": "stream",
     "text": [
      "total_loss: 13.23484782483626\n",
      "average train loss 13 | test loss 37.7\n"
     ]
    },
    {
     "name": "stderr",
     "output_type": "stream",
     "text": [
      "Client 0, Epoch 3 Local Epoch: 0: 100%|██████████| 5176/5176 [00:33<00:00, 153.43it/s]\n"
     ]
    },
    {
     "name": "stdout",
     "output_type": "stream",
     "text": [
      "total_loss: 8.479357043652069\n"
     ]
    },
    {
     "name": "stderr",
     "output_type": "stream",
     "text": [
      "Client 0, Epoch 3 Local Epoch: 1: 100%|██████████| 5176/5176 [00:33<00:00, 154.58it/s]\n"
     ]
    },
    {
     "name": "stdout",
     "output_type": "stream",
     "text": [
      "total_loss: 11.383465596333059\n"
     ]
    },
    {
     "name": "stderr",
     "output_type": "stream",
     "text": [
      "Client 0, Epoch 3 Local Epoch: 2: 100%|██████████| 5176/5176 [00:32<00:00, 158.52it/s]\n"
     ]
    },
    {
     "name": "stdout",
     "output_type": "stream",
     "text": [
      "total_loss: 12.567583826314833\n"
     ]
    },
    {
     "name": "stderr",
     "output_type": "stream",
     "text": [
      "Client 1, Epoch 3 Local Epoch: 0: 100%|██████████| 5176/5176 [00:33<00:00, 155.50it/s]\n"
     ]
    },
    {
     "name": "stdout",
     "output_type": "stream",
     "text": [
      "total_loss: 8.184745403734148\n"
     ]
    },
    {
     "name": "stderr",
     "output_type": "stream",
     "text": [
      "Client 1, Epoch 3 Local Epoch: 1: 100%|██████████| 5176/5176 [00:33<00:00, 154.73it/s]\n"
     ]
    },
    {
     "name": "stdout",
     "output_type": "stream",
     "text": [
      "total_loss: 11.210094027491678\n"
     ]
    },
    {
     "name": "stderr",
     "output_type": "stream",
     "text": [
      "Client 1, Epoch 3 Local Epoch: 2: 100%|██████████| 5176/5176 [00:33<00:00, 155.36it/s]\n"
     ]
    },
    {
     "name": "stdout",
     "output_type": "stream",
     "text": [
      "total_loss: 12.427074348963904\n"
     ]
    },
    {
     "name": "stderr",
     "output_type": "stream",
     "text": [
      "Client 2, Epoch 3 Local Epoch: 0: 100%|██████████| 5176/5176 [00:33<00:00, 154.28it/s]\n"
     ]
    },
    {
     "name": "stdout",
     "output_type": "stream",
     "text": [
      "total_loss: 7.817786523364126\n"
     ]
    },
    {
     "name": "stderr",
     "output_type": "stream",
     "text": [
      "Client 2, Epoch 3 Local Epoch: 1: 100%|██████████| 5176/5176 [00:33<00:00, 156.25it/s]\n"
     ]
    },
    {
     "name": "stdout",
     "output_type": "stream",
     "text": [
      "total_loss: 10.703796256995071\n"
     ]
    },
    {
     "name": "stderr",
     "output_type": "stream",
     "text": [
      "Client 2, Epoch 3 Local Epoch: 2: 100%|██████████| 5176/5176 [00:33<00:00, 154.01it/s]\n"
     ]
    },
    {
     "name": "stdout",
     "output_type": "stream",
     "text": [
      "total_loss: 12.046908797541326\n"
     ]
    },
    {
     "name": "stderr",
     "output_type": "stream",
     "text": [
      "Client 3, Epoch 3 Local Epoch: 0: 100%|██████████| 5176/5176 [00:33<00:00, 153.96it/s]\n"
     ]
    },
    {
     "name": "stdout",
     "output_type": "stream",
     "text": [
      "total_loss: 8.144309896067004\n"
     ]
    },
    {
     "name": "stderr",
     "output_type": "stream",
     "text": [
      "Client 3, Epoch 3 Local Epoch: 1: 100%|██████████| 5176/5176 [00:33<00:00, 153.21it/s]\n"
     ]
    },
    {
     "name": "stdout",
     "output_type": "stream",
     "text": [
      "total_loss: 11.022598806206192\n"
     ]
    },
    {
     "name": "stderr",
     "output_type": "stream",
     "text": [
      "Client 3, Epoch 3 Local Epoch: 2: 100%|██████████| 5176/5176 [00:33<00:00, 153.09it/s]\n"
     ]
    },
    {
     "name": "stdout",
     "output_type": "stream",
     "text": [
      "total_loss: 12.15661926929652\n"
     ]
    },
    {
     "name": "stderr",
     "output_type": "stream",
     "text": [
      "Client 4, Epoch 3 Local Epoch: 0: 100%|██████████| 5176/5176 [00:33<00:00, 153.49it/s]\n"
     ]
    },
    {
     "name": "stdout",
     "output_type": "stream",
     "text": [
      "total_loss: 7.654784617233753\n"
     ]
    },
    {
     "name": "stderr",
     "output_type": "stream",
     "text": [
      "Client 4, Epoch 3 Local Epoch: 1: 100%|██████████| 5176/5176 [00:33<00:00, 155.52it/s]\n"
     ]
    },
    {
     "name": "stdout",
     "output_type": "stream",
     "text": [
      "total_loss: 10.377545391932552\n"
     ]
    },
    {
     "name": "stderr",
     "output_type": "stream",
     "text": [
      "Client 4, Epoch 3 Local Epoch: 2: 100%|██████████| 5176/5176 [00:33<00:00, 155.26it/s]\n"
     ]
    },
    {
     "name": "stdout",
     "output_type": "stream",
     "text": [
      "total_loss: 11.627531908170898\n"
     ]
    },
    {
     "name": "stderr",
     "output_type": "stream",
     "text": [
      "Client 5, Epoch 3 Local Epoch: 0: 100%|██████████| 5176/5176 [00:33<00:00, 154.56it/s]\n"
     ]
    },
    {
     "name": "stdout",
     "output_type": "stream",
     "text": [
      "total_loss: 7.589776068726439\n"
     ]
    },
    {
     "name": "stderr",
     "output_type": "stream",
     "text": [
      "Client 5, Epoch 3 Local Epoch: 1: 100%|██████████| 5176/5176 [00:33<00:00, 154.65it/s]\n"
     ]
    },
    {
     "name": "stdout",
     "output_type": "stream",
     "text": [
      "total_loss: 10.350395628722097\n"
     ]
    },
    {
     "name": "stderr",
     "output_type": "stream",
     "text": [
      "Client 5, Epoch 3 Local Epoch: 2: 100%|██████████| 5176/5176 [00:33<00:00, 155.30it/s]\n"
     ]
    },
    {
     "name": "stdout",
     "output_type": "stream",
     "text": [
      "total_loss: 11.615120131692288\n"
     ]
    },
    {
     "name": "stderr",
     "output_type": "stream",
     "text": [
      "Client 6, Epoch 3 Local Epoch: 0: 100%|██████████| 5176/5176 [00:33<00:00, 155.05it/s]\n"
     ]
    },
    {
     "name": "stdout",
     "output_type": "stream",
     "text": [
      "total_loss: 7.505926028203395\n"
     ]
    },
    {
     "name": "stderr",
     "output_type": "stream",
     "text": [
      "Client 6, Epoch 3 Local Epoch: 1: 100%|██████████| 5176/5176 [00:33<00:00, 156.35it/s]\n"
     ]
    },
    {
     "name": "stdout",
     "output_type": "stream",
     "text": [
      "total_loss: 10.330339912810905\n"
     ]
    },
    {
     "name": "stderr",
     "output_type": "stream",
     "text": [
      "Client 6, Epoch 3 Local Epoch: 2: 100%|██████████| 5176/5176 [00:32<00:00, 157.78it/s]\n"
     ]
    },
    {
     "name": "stdout",
     "output_type": "stream",
     "text": [
      "total_loss: 11.60183664638455\n"
     ]
    },
    {
     "name": "stderr",
     "output_type": "stream",
     "text": [
      "Client 7, Epoch 3 Local Epoch: 0: 100%|██████████| 5176/5176 [00:33<00:00, 153.21it/s]\n"
     ]
    },
    {
     "name": "stdout",
     "output_type": "stream",
     "text": [
      "total_loss: 7.782628179822373\n"
     ]
    },
    {
     "name": "stderr",
     "output_type": "stream",
     "text": [
      "Client 7, Epoch 3 Local Epoch: 1: 100%|██████████| 5176/5176 [00:31<00:00, 162.53it/s]\n"
     ]
    },
    {
     "name": "stdout",
     "output_type": "stream",
     "text": [
      "total_loss: 10.527293132406713\n"
     ]
    },
    {
     "name": "stderr",
     "output_type": "stream",
     "text": [
      "Client 7, Epoch 3 Local Epoch: 2: 100%|██████████| 5176/5176 [00:33<00:00, 154.38it/s]\n"
     ]
    },
    {
     "name": "stdout",
     "output_type": "stream",
     "text": [
      "total_loss: 11.723726190891183\n"
     ]
    },
    {
     "name": "stderr",
     "output_type": "stream",
     "text": [
      "Client 8, Epoch 3 Local Epoch: 0: 100%|██████████| 5176/5176 [00:32<00:00, 157.05it/s]\n"
     ]
    },
    {
     "name": "stdout",
     "output_type": "stream",
     "text": [
      "total_loss: 7.859774466416118\n"
     ]
    },
    {
     "name": "stderr",
     "output_type": "stream",
     "text": [
      "Client 8, Epoch 3 Local Epoch: 1: 100%|██████████| 5176/5176 [00:32<00:00, 161.73it/s]\n"
     ]
    },
    {
     "name": "stdout",
     "output_type": "stream",
     "text": [
      "total_loss: 10.865764743199206\n"
     ]
    },
    {
     "name": "stderr",
     "output_type": "stream",
     "text": [
      "Client 8, Epoch 3 Local Epoch: 2: 100%|██████████| 5176/5176 [00:32<00:00, 159.74it/s]\n"
     ]
    },
    {
     "name": "stdout",
     "output_type": "stream",
     "text": [
      "total_loss: 12.176374742667123\n"
     ]
    },
    {
     "name": "stderr",
     "output_type": "stream",
     "text": [
      "Client 9, Epoch 3 Local Epoch: 0: 100%|██████████| 5176/5176 [00:32<00:00, 159.26it/s]\n"
     ]
    },
    {
     "name": "stdout",
     "output_type": "stream",
     "text": [
      "total_loss: 8.165017368040763\n"
     ]
    },
    {
     "name": "stderr",
     "output_type": "stream",
     "text": [
      "Client 9, Epoch 3 Local Epoch: 1: 100%|██████████| 5176/5176 [00:33<00:00, 156.70it/s]\n"
     ]
    },
    {
     "name": "stdout",
     "output_type": "stream",
     "text": [
      "total_loss: 10.760610302234566\n"
     ]
    },
    {
     "name": "stderr",
     "output_type": "stream",
     "text": [
      "Client 9, Epoch 3 Local Epoch: 2: 100%|██████████| 5176/5176 [00:33<00:00, 156.76it/s]\n"
     ]
    },
    {
     "name": "stdout",
     "output_type": "stream",
     "text": [
      "total_loss: 11.801102030495068\n",
      "average train loss 12 | test loss 38.8\n"
     ]
    },
    {
     "name": "stderr",
     "output_type": "stream",
     "text": [
      "Client 0, Epoch 4 Local Epoch: 0: 100%|██████████| 5176/5176 [00:31<00:00, 162.20it/s]\n"
     ]
    },
    {
     "name": "stdout",
     "output_type": "stream",
     "text": [
      "total_loss: 7.9468867946248976\n"
     ]
    },
    {
     "name": "stderr",
     "output_type": "stream",
     "text": [
      "Client 0, Epoch 4 Local Epoch: 1: 100%|██████████| 5176/5176 [00:32<00:00, 157.20it/s]\n"
     ]
    },
    {
     "name": "stdout",
     "output_type": "stream",
     "text": [
      "total_loss: 10.633883200885807\n"
     ]
    },
    {
     "name": "stderr",
     "output_type": "stream",
     "text": [
      "Client 0, Epoch 4 Local Epoch: 2: 100%|██████████| 5176/5176 [00:32<00:00, 158.39it/s]\n"
     ]
    },
    {
     "name": "stdout",
     "output_type": "stream",
     "text": [
      "total_loss: 11.779880504349634\n"
     ]
    },
    {
     "name": "stderr",
     "output_type": "stream",
     "text": [
      "Client 1, Epoch 4 Local Epoch: 0: 100%|██████████| 5176/5176 [00:31<00:00, 161.93it/s]\n"
     ]
    },
    {
     "name": "stdout",
     "output_type": "stream",
     "text": [
      "total_loss: 7.433263526651082\n"
     ]
    },
    {
     "name": "stderr",
     "output_type": "stream",
     "text": [
      "Client 1, Epoch 4 Local Epoch: 1: 100%|██████████| 5176/5176 [00:31<00:00, 162.73it/s]\n"
     ]
    },
    {
     "name": "stdout",
     "output_type": "stream",
     "text": [
      "total_loss: 9.94714271830743\n"
     ]
    },
    {
     "name": "stderr",
     "output_type": "stream",
     "text": [
      "Client 1, Epoch 4 Local Epoch: 2: 100%|██████████| 5176/5176 [00:32<00:00, 157.23it/s]\n"
     ]
    },
    {
     "name": "stdout",
     "output_type": "stream",
     "text": [
      "total_loss: 11.044776391491363\n"
     ]
    },
    {
     "name": "stderr",
     "output_type": "stream",
     "text": [
      "Client 2, Epoch 4 Local Epoch: 0: 100%|██████████| 5176/5176 [00:31<00:00, 162.43it/s]\n"
     ]
    },
    {
     "name": "stdout",
     "output_type": "stream",
     "text": [
      "total_loss: 6.912246484075688\n"
     ]
    },
    {
     "name": "stderr",
     "output_type": "stream",
     "text": [
      "Client 2, Epoch 4 Local Epoch: 1: 100%|██████████| 5176/5176 [00:32<00:00, 158.01it/s]\n"
     ]
    },
    {
     "name": "stdout",
     "output_type": "stream",
     "text": [
      "total_loss: 9.315673731081231\n"
     ]
    },
    {
     "name": "stderr",
     "output_type": "stream",
     "text": [
      "Client 2, Epoch 4 Local Epoch: 2: 100%|██████████| 5176/5176 [00:33<00:00, 156.67it/s]\n"
     ]
    },
    {
     "name": "stdout",
     "output_type": "stream",
     "text": [
      "total_loss: 10.43250501335748\n"
     ]
    },
    {
     "name": "stderr",
     "output_type": "stream",
     "text": [
      "Client 3, Epoch 4 Local Epoch: 0: 100%|██████████| 5176/5176 [00:31<00:00, 162.05it/s]\n"
     ]
    },
    {
     "name": "stdout",
     "output_type": "stream",
     "text": [
      "total_loss: 7.532213284733244\n"
     ]
    },
    {
     "name": "stderr",
     "output_type": "stream",
     "text": [
      "Client 3, Epoch 4 Local Epoch: 1: 100%|██████████| 5176/5176 [00:32<00:00, 158.41it/s]\n"
     ]
    },
    {
     "name": "stdout",
     "output_type": "stream",
     "text": [
      "total_loss: 10.051104031427176\n"
     ]
    },
    {
     "name": "stderr",
     "output_type": "stream",
     "text": [
      "Client 3, Epoch 4 Local Epoch: 2: 100%|██████████| 5176/5176 [00:32<00:00, 161.61it/s]\n"
     ]
    },
    {
     "name": "stdout",
     "output_type": "stream",
     "text": [
      "total_loss: 11.158687784502483\n"
     ]
    },
    {
     "name": "stderr",
     "output_type": "stream",
     "text": [
      "Client 4, Epoch 4 Local Epoch: 0: 100%|██████████| 5176/5176 [00:31<00:00, 161.93it/s]\n"
     ]
    },
    {
     "name": "stdout",
     "output_type": "stream",
     "text": [
      "total_loss: 7.2823557930218845\n"
     ]
    },
    {
     "name": "stderr",
     "output_type": "stream",
     "text": [
      "Client 4, Epoch 4 Local Epoch: 1: 100%|██████████| 5176/5176 [00:31<00:00, 162.57it/s]\n"
     ]
    },
    {
     "name": "stdout",
     "output_type": "stream",
     "text": [
      "total_loss: 9.828139305898866\n"
     ]
    },
    {
     "name": "stderr",
     "output_type": "stream",
     "text": [
      "Client 4, Epoch 4 Local Epoch: 2: 100%|██████████| 5176/5176 [00:31<00:00, 164.62it/s]\n"
     ]
    },
    {
     "name": "stdout",
     "output_type": "stream",
     "text": [
      "total_loss: 10.912798155505161\n"
     ]
    },
    {
     "name": "stderr",
     "output_type": "stream",
     "text": [
      "Client 5, Epoch 4 Local Epoch: 0: 100%|██████████| 5176/5176 [00:32<00:00, 159.40it/s]\n"
     ]
    },
    {
     "name": "stdout",
     "output_type": "stream",
     "text": [
      "total_loss: 7.496755144844999\n"
     ]
    },
    {
     "name": "stderr",
     "output_type": "stream",
     "text": [
      "Client 5, Epoch 4 Local Epoch: 1: 100%|██████████| 5176/5176 [00:32<00:00, 161.00it/s]\n"
     ]
    },
    {
     "name": "stdout",
     "output_type": "stream",
     "text": [
      "total_loss: 10.1322511975887\n"
     ]
    },
    {
     "name": "stderr",
     "output_type": "stream",
     "text": [
      "Client 5, Epoch 4 Local Epoch: 2: 100%|██████████| 5176/5176 [00:32<00:00, 158.87it/s]\n"
     ]
    },
    {
     "name": "stdout",
     "output_type": "stream",
     "text": [
      "total_loss: 11.294011176145691\n"
     ]
    },
    {
     "name": "stderr",
     "output_type": "stream",
     "text": [
      "Client 6, Epoch 4 Local Epoch: 0: 100%|██████████| 5176/5176 [00:32<00:00, 160.26it/s]\n"
     ]
    },
    {
     "name": "stdout",
     "output_type": "stream",
     "text": [
      "total_loss: 6.962282200996013\n"
     ]
    },
    {
     "name": "stderr",
     "output_type": "stream",
     "text": [
      "Client 6, Epoch 4 Local Epoch: 1: 100%|██████████| 5176/5176 [00:31<00:00, 163.45it/s]\n"
     ]
    },
    {
     "name": "stdout",
     "output_type": "stream",
     "text": [
      "total_loss: 9.50180014274289\n"
     ]
    },
    {
     "name": "stderr",
     "output_type": "stream",
     "text": [
      "Client 6, Epoch 4 Local Epoch: 2: 100%|██████████| 5176/5176 [00:31<00:00, 164.34it/s]\n"
     ]
    },
    {
     "name": "stdout",
     "output_type": "stream",
     "text": [
      "total_loss: 10.591685076210323\n"
     ]
    },
    {
     "name": "stderr",
     "output_type": "stream",
     "text": [
      "Client 7, Epoch 4 Local Epoch: 0: 100%|██████████| 5176/5176 [00:32<00:00, 157.20it/s]\n"
     ]
    },
    {
     "name": "stdout",
     "output_type": "stream",
     "text": [
      "total_loss: 7.138277517060698\n"
     ]
    },
    {
     "name": "stderr",
     "output_type": "stream",
     "text": [
      "Client 7, Epoch 4 Local Epoch: 1: 100%|██████████| 5176/5176 [00:32<00:00, 161.42it/s]\n"
     ]
    },
    {
     "name": "stdout",
     "output_type": "stream",
     "text": [
      "total_loss: 9.667905117819423\n"
     ]
    },
    {
     "name": "stderr",
     "output_type": "stream",
     "text": [
      "Client 7, Epoch 4 Local Epoch: 2: 100%|██████████| 5176/5176 [00:32<00:00, 159.39it/s]\n"
     ]
    },
    {
     "name": "stdout",
     "output_type": "stream",
     "text": [
      "total_loss: 10.747344121406352\n"
     ]
    },
    {
     "name": "stderr",
     "output_type": "stream",
     "text": [
      "Client 8, Epoch 4 Local Epoch: 0: 100%|██████████| 5176/5176 [00:31<00:00, 162.41it/s]\n"
     ]
    },
    {
     "name": "stdout",
     "output_type": "stream",
     "text": [
      "total_loss: 7.382766383119475\n"
     ]
    },
    {
     "name": "stderr",
     "output_type": "stream",
     "text": [
      "Client 8, Epoch 4 Local Epoch: 1:  50%|█████     | 2600/5176 [00:16<00:15, 166.48it/s]"
     ]
    }
   ],
   "source": [
    "losses_train = []\n",
    "losses_test = []\n",
    "# acc_train = []\n",
    "# acc_test = []\n",
    "\n",
    "for epoch in range(epochs):\n",
    "    loss = 0\n",
    "    for i in range(num_clients):\n",
    "        loss += client_update(client_models[i], optimizers[i], trainingSplits[i], local_epochs=local_epochs, name = 'Client {}, Epoch {}'.format(i, epoch))\n",
    "    \n",
    "    losses_train.append(loss)\n",
    "    \n",
    "    # server aggregate\n",
    "    server_aggregate(global_model, client_models)\n",
    "    \n",
    "    test_loss = test(global_model, testSplit)\n",
    "    losses_test.append(test_loss)\n",
    "    # acc_test.append(acc)\n",
    "    # print('%d-th round' % r)\n",
    "    print('average train loss %0.3g | test loss %0.3g' % (loss / num_clients, test_loss))"
   ]
  },
  {
   "cell_type": "code",
   "execution_count": null,
   "metadata": {},
   "outputs": [],
   "source": []
  }
 ],
 "metadata": {
  "interpreter": {
   "hash": "c854730bd06fef4a089243d2501fb3b7e98cc6cf4ccc2cce9e8cdf48ee542ef6"
  },
  "kernelspec": {
   "display_name": "Python 3.8.9 64-bit",
   "language": "python",
   "name": "python3"
  },
  "language_info": {
   "codemirror_mode": {
    "name": "ipython",
    "version": 3
   },
   "file_extension": ".py",
   "mimetype": "text/x-python",
   "name": "python",
   "nbconvert_exporter": "python",
   "pygments_lexer": "ipython3",
   "version": "3.8.9"
  },
  "orig_nbformat": 4
 },
 "nbformat": 4,
 "nbformat_minor": 2
}
